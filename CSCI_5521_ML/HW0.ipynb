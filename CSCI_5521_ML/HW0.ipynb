{
 "cells": [
  {
   "cell_type": "code",
   "execution_count": null,
   "id": "c8365a7a",
   "metadata": {},
   "outputs": [],
   "source": [
    " CSCI 5521 Introduction to Machine Learning\n",
    "% Rui Kuang\n",
    "% Perceptron function \n",
    "function [w] = perceptron(X,Y,w_init,rate)\n",
    "w = w_init;\n",
    "N = size(X,2);\n",
    "pos_idx = (Y==1);\n",
    "neg_idx = (Y==-1);\n",
    "mxx = max(X(1,:));\n",
    "mnx=-0.1*mxx;%for visualization %mnx = min(X(1,:));\n",
    "mxy = max(X(2,:));\n",
    "mny=-0.1*mxy; % for visualization %mny = min(X(2,:));\n",
    "figure;\n",
    "ginput(1);\n",
    "err = 1;\n",
    "round = 0;\n",
    "while err > 0  \n",
    "  for ii = 1 : N         %cycle through training set\n",
    "    if sign(w'*X(:,ii)) ~= Y(ii) %wrong decision?\n",
    "        w = w + rate*X(:,ii) * Y(ii);   %then add (or subtract) this point to w\n",
    "        x1=mnx:0.01:mxx;\n",
    "        x2=-(w(1)*x1+w(3))/w(2);\n",
    "        %figure;\n",
    "        clf;\n",
    "        hold on\n",
    "        plot(X(1,pos_idx),X(2,pos_idx),'b*','MarkerSize',10);\n",
    "        plot(X(1,neg_idx),X(2,neg_idx),'r+','MarkerSize',10);\n",
    "        plot(X(1,ii),X(2,ii),'ko','MarkerSize',15);\n",
    "        plot(x1,x2);\n",
    "        xlim([mnx mxx]);\n",
    "        ylim([mny mxy]);\n",
    "        %ginput(1);\n",
    "        pause(0.5); %change the delay\n",
    "    end\n",
    "  end\n",
    "  round = round + 1\n",
    "  err = sum(sign(w'*X)~=Y')/N   %show misclassification rate\n",
    "end"
   ]
  },
  {
   "cell_type": "code",
   "execution_count": 2,
   "id": "a08b5057",
   "metadata": {},
   "outputs": [],
   "source": [
    "#initialize w\n",
    "# while mistakes\n",
    "# for each sample\n",
    "#     if w,x  r <= 0\n",
    "#         w=w+rx\n",
    "import scipy.io\n",
    "mat = scipy.io.loadmat('data1.mat')\n",
    "\n"
   ]
  },
  {
   "cell_type": "code",
   "execution_count": null,
   "id": "f70f0bb7",
   "metadata": {},
   "outputs": [],
   "source": []
  }
 ],
 "metadata": {
  "kernelspec": {
   "display_name": "Python 3 (ipykernel)",
   "language": "python",
   "name": "python3"
  },
  "language_info": {
   "codemirror_mode": {
    "name": "ipython",
    "version": 3
   },
   "file_extension": ".py",
   "mimetype": "text/x-python",
   "name": "python",
   "nbconvert_exporter": "python",
   "pygments_lexer": "ipython3",
   "version": "3.9.12"
  }
 },
 "nbformat": 4,
 "nbformat_minor": 5
}
