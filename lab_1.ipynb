{
  "cells": [
    {
      "cell_type": "markdown",
      "metadata": {
        "id": "view-in-github",
        "colab_type": "text"
      },
      "source": [
        "<a href=\"https://colab.research.google.com/github/oiegrant/coursework/blob/main/lab_1.ipynb\" target=\"_parent\"><img src=\"https://colab.research.google.com/assets/colab-badge.svg\" alt=\"Open In Colab\"/></a>"
      ]
    },
    {
      "cell_type": "markdown",
      "metadata": {
        "id": "iB0C54VcSiEP"
      },
      "source": [
        "# INET 4061 Lab 3\n",
        "# Grant Oie\n",
        "# 2/5/2023"
      ]
    },
    {
      "cell_type": "markdown",
      "metadata": {
        "id": "beyYWC-QSiER"
      },
      "source": [
        "# __<font color=green>OVERVIEW</font><br>__\n",
        "\n",
        "\n",
        "#### __<font color=yellow>Business Problem</font><br>__\n",
        "\n",
        "In this Lab our 'business problem' is: using 2 fabricated datasets, we are attempting to understand the statistical difference (if any) that age and race has on voting.\n",
        "\n",
        "#### __<font color=yellow>Brief Explanation of a One-Way ANOVA test</font><br>__\n",
        "\n",
        "ANOVA (analysis fo variance) is a statistical inference test allowing you to compare statistics accross multiple groups. A one-way ANOVA test holds three primary assumptions: normal population distribution, distributions have same variance, and the data is independent. The most important results for intepretation coming out of one-way ANOVA test are the test statistic and p-value. The primary conclusive power comes from the p-value, where if the p-value is below your alpha value, you can reject the null hypothesis, otherwise you fail to reject the null hypothesis.\n",
        "(https://online.stat.psu.edu/stat500/lesson/10/10.2/10.2.1#:~:text=Assumptions%20for%20One%2DWay%20ANOVA,The%20data%20are%20independent.)\n",
        "\n",
        "#### __<font color=yellow>Definitions</font><br>__\n",
        "\n",
        "F-test: is a statistical test often used for data with an F-distribution. It usually refers the comparison of variances accross datasets.\n",
        "<br><br>\n",
        "F-stat: the primary stat used to conduct F-tests. equal to the division of variances of two datasets.\n",
        "<br><br>\n",
        "Bonferroni Correction: An adjustment made ot p-values when several statistical tests are being performed on a single dataset. Performed by dividing the p value by the number of comparisons being made. This correction reduces the chances of obtaining false-positive results (https://www.aaos.org/aaosnow/2012/apr/research/research7/)\n",
        "<br><br>\n",
        "Tukey's test: This is a multi-comparison method used to find if means are significantly different between groups\n",
        "\n",
        "\n",
        "#### __<font color=yellow>Objectives</font><br>__\n",
        "Our objective for this lab is to understand if the mean age of different races varies with each dataset.  "
      ]
    },
    {
      "cell_type": "markdown",
      "metadata": {
        "id": "uQEPPjf0SiER"
      },
      "source": [
        "\n",
        "# __<font color=green>DATA</font><br>__"
      ]
    },
    {
      "cell_type": "code",
      "execution_count": null,
      "metadata": {
        "id": "qRgUWUG9SiES"
      },
      "outputs": [],
      "source": [
        "import numpy as np\n",
        "import pandas as pd\n",
        "import matplotlib.pyplot as plt\n",
        "import scipy.stats as stats\n"
      ]
    },
    {
      "cell_type": "code",
      "execution_count": null,
      "metadata": {
        "id": "GodEr7b-SiES"
      },
      "outputs": [],
      "source": [
        "np.random.seed(12)\n",
        "\n",
        "races =   [\"asian\",\"black\",\"hispanic\",\"other\",\"white\"]\n",
        "\n",
        "# Generate random data\n",
        "voter_race = np.random.choice(a= races,\n",
        "                              p = [0.05, 0.15 ,0.25, 0.05, 0.5],\n",
        "                              size=1000)\n",
        "\n",
        "voter_age = stats.poisson.rvs(loc=18,\n",
        "                              mu=30,\n",
        "                              size=1000)\n",
        "\n",
        "# Group age data by race\n",
        "voter_frame = pd.DataFrame({\"race\":voter_race,\"age\":voter_age})\n",
        "\n",
        "#Count of each race in dataset\n",
        "print(voter_frame.race.value_counts())\n",
        "print(voter_frame.describe())\n",
        "\n",
        "groups = voter_frame.groupby(\"race\").groups\n",
        "\n",
        "# Extract individual group ages\n",
        "asian = voter_age[groups[\"asian\"]]\n",
        "black = voter_age[groups[\"black\"]]\n",
        "hispanic = voter_age[groups[\"hispanic\"]]\n",
        "other = voter_age[groups[\"other\"]]\n",
        "white = voter_age[groups[\"white\"]]\n",
        "\n",
        "# Perform the ANOVA\n",
        "stats.f_oneway(asian, black, hispanic, other, white)"
      ]
    },
    {
      "cell_type": "markdown",
      "metadata": {
        "id": "fIPB3__ASiET"
      },
      "source": [
        "__Dataset 1 Description__ <br>\n",
        "This dataset contains 1000 individuals of varying races (proportion for each race set to [0.05, 0.15 ,0.25, 0.05, 0.5] for races [\"asian\",\"black\",\"hispanic\",\"other\",\"white\"], respectively). The mean age accross the data set is 47.7 years, with a standard deviation of 5.3 years.\n",
        "\n",
        "__Null Hypothesis:__ There is no difference in mean age across the race groups\n"
      ]
    },
    {
      "cell_type": "code",
      "execution_count": null,
      "metadata": {
        "colab": {
          "base_uri": "https://localhost:8080/"
        },
        "id": "bfFb0MiiSiEU",
        "outputId": "b24ebde2-7ba3-4fb0-c172-1a6d4f2f77c3"
      },
      "outputs": [
        {
          "output_type": "stream",
          "name": "stdout",
          "text": [
            "white       515\n",
            "hispanic    244\n",
            "black       147\n",
            "other        50\n",
            "asian        44\n",
            "Name: race, dtype: int64\n",
            "              age\n",
            "count  1000.00000\n",
            "mean     49.14100\n",
            "std       5.72205\n",
            "min      29.00000\n",
            "25%      45.00000\n",
            "50%      49.00000\n",
            "75%      53.00000\n",
            "max      72.00000\n"
          ]
        },
        {
          "output_type": "execute_result",
          "data": {
            "text/plain": [
              "F_onewayResult(statistic=10.164699828386366, pvalue=4.5613242113994585e-08)"
            ]
          },
          "metadata": {},
          "execution_count": 4
        }
      ],
      "source": [
        "np.random.seed(12)\n",
        "\n",
        "# Generate random data\n",
        "voter_race = np.random.choice(a= races,\n",
        "                              p = [0.05, 0.15 ,0.25, 0.05, 0.5],\n",
        "                              size=1000)\n",
        "\n",
        "# Use a different distribution for white ages\n",
        "white_ages = stats.poisson.rvs(loc=18, \n",
        "                              mu=32,\n",
        "                              size=1000)\n",
        "\n",
        "voter_age = stats.poisson.rvs(loc=18,\n",
        "                              mu=30,\n",
        "                              size=1000)\n",
        "\n",
        "#returns a combined array where white ages correspond to voter_race=white\n",
        "voter_age = np.where(voter_race==\"white\", white_ages, voter_age)\n",
        "\n",
        "# Group age data by race\n",
        "voter_frame_2 = pd.DataFrame({\"race\":voter_race,\"age\":voter_age})\n",
        "groups = voter_frame_2.groupby(\"race\").groups   \n",
        "\n",
        "print(voter_frame_2.race.value_counts())\n",
        "print(voter_frame_2.describe())\n",
        "\n",
        "\n",
        "# Extract individual groups\n",
        "asian2 = voter_age[groups[\"asian\"]]\n",
        "black2 = voter_age[groups[\"black\"]]\n",
        "hispanic2 = voter_age[groups[\"hispanic\"]]\n",
        "other2 = voter_age[groups[\"other\"]]\n",
        "white2 = voter_age[groups[\"white\"]]\n",
        "\n",
        "# Perform the ANOVA\n",
        "stats.f_oneway(asian2, black2, hispanic2, other2, white2)"
      ]
    },
    {
      "cell_type": "markdown",
      "metadata": {
        "id": "IIxbOO97SiEU"
      },
      "source": [
        "__Dataset 2 Description__ <br>\n",
        "This dataset contains 1000 individuals of varying races (proportion for each race set to [0.05, 0.15 ,0.25, 0.05, 0.5] for races [\"asian\",\"black\",\"hispanic\",\"other\",\"white\"], respectively). This dataset differs from Dataset 1 in that the samples with race=white are given ages based on a different distribution. The mean age accross the data set is 49.1 years, with a standard deviation of 5.7 years.\n",
        "\n",
        "Null Hypothesis: There is no difference in mean age across the race groups\n"
      ]
    },
    {
      "cell_type": "markdown",
      "metadata": {
        "id": "WyOTJmJmSiEV"
      },
      "source": [
        "# __<font color=green>Exploratory Data Analysis</font><br>__"
      ]
    },
    {
      "cell_type": "markdown",
      "metadata": {
        "id": "4KGlhsdpSiEV"
      },
      "source": [
        "I ran two sets of exploratory data analysis on these datasets, with a goal of visualizing the difference within each dataset, and the differences accross the two datasets.<br><br>\n",
        "\n",
        "#### __<font color=yellow>Analysis One: Age Histogram by Race</font><br>__\n",
        "The first analysis I performed was creating an age histogram for each race within its dataset, graphing them all on the same age axis so any shifts would become more apparent. I also added a mean line for each race so that I could get a feel for where the middle of the data sits within each group.<br><br>\n",
        "\n",
        "In Dataset 1, all of the distributions have a semi-normal shape, with the Asian histogram showing a bi-modal shape, although it is hard to tell with these sample sizes. The mean lines don't show any significant flucuation, with all groups falling between ~47.5 and 49.<br><br>\n",
        "\n",
        "In Dataset 2, each race again seems to have a somewhat normal shape, including the Asian samples. The major difference between this set of histograms and those of Dataset 1 is that the White mean is slightly above 50, whereas the other means sit in a range slighly below (as expected given data construction.)<br><br>\n",
        "#### __<font color=yellow>Analysis Two: Boxplots</font><br>__\n",
        "In this analysis I wanted to try and observe some more detail behind the skewing of Dataset 2 based on the increased white age. I first ran a similar analysis as in Analysis One except with boxplots. In the boxplots of dataset you can see tha  the white has a slighly taller box than the other races as compared within Dataset 2. Dataset 1 looks more closely spread accross all races. \n",
        "\n",
        "#### __<font color=yellow>Summary</font><br>__\n",
        "\n",
        "Given that this each dataset was randomly generated with only a sample size of 1000, the normal-ish data distributions was expected, and the higher white mean in Dataset 2 was engineered to be present, and so was also expected. \n"
      ]
    },
    {
      "cell_type": "code",
      "execution_count": null,
      "metadata": {
        "colab": {
          "base_uri": "https://localhost:8080/"
        },
        "id": "B9fP_0iqSiEV",
        "outputId": "57e8868c-a3a5-4226-f491-9f66459f39ee"
      },
      "outputs": [
        {
          "output_type": "stream",
          "name": "stdout",
          "text": [
            "       race  age\n",
            "0     black   51\n",
            "1     white   49\n",
            "2  hispanic   51\n",
            "3     white   48\n",
            "4     asian   56\n"
          ]
        },
        {
          "output_type": "execute_result",
          "data": {
            "text/plain": [
              "pandas.core.frame.DataFrame"
            ]
          },
          "metadata": {},
          "execution_count": 5
        }
      ],
      "source": [
        "%matplotlib inline\n",
        "\n",
        "# voter_frame.hist(bins=15,figsize=(20,15))\n",
        "print(voter_frame.head())\n",
        "type(voter_frame)"
      ]
    },
    {
      "cell_type": "code",
      "execution_count": null,
      "metadata": {
        "colab": {
          "base_uri": "https://localhost:8080/",
          "height": 729
        },
        "id": "A0HkfuJQSiEV",
        "outputId": "60af281a-b488-48de-e899-bf4cd787ad26"
      },
      "outputs": [
        {
          "output_type": "display_data",
          "data": {
            "text/plain": [
              "<Figure size 720x720 with 5 Axes>"
            ],
            "image/png": "[encoded data removed]"
          },
          "metadata": {
            "needs_background": "light"
          }
        }
      ],
      "source": [
        "\n",
        "race_grouped_1 = voter_frame.groupby(\"race\")\n",
        "plt.rcParams[\"figure.autolayout\"] = True\n",
        "fig, ax = plt.subplots(nrows=len(race_grouped_1),figsize=(10,10),sharex=True)\n",
        "fig.suptitle(\"DATASET 1 | Age Histogram by Race (including mean line)\",fontsize=16)\n",
        "\n",
        "for i, (name, group) in enumerate(race_grouped_1):\n",
        "    ax[i].hist(group[\"age\"], bins=20, alpha=0.5)\n",
        "    ax[i].axvline(group[\"age\"].mean(), color='b', linestyle='dashed', linewidth=1)\n",
        "    ax[i].set_title(name)\n",
        "    ax[i].set_ylabel(\"Frequency\")\n",
        "    ax[i].set_xlabel(\"Age\")\n",
        "\n",
        "\n",
        "# Formatting tips used from\n",
        "# https://matplotlib.org/stable/gallery/subplots_axes_and_figures/subplots_demo.html"
      ]
    },
    {
      "cell_type": "code",
      "execution_count": null,
      "metadata": {
        "colab": {
          "base_uri": "https://localhost:8080/",
          "height": 729
        },
        "id": "aSoOeRDSSiEW",
        "outputId": "da4f707f-3579-4911-a09e-ae5cce522e7c"
      },
      "outputs": [
        {
          "output_type": "display_data",
          "data": {
            "text/plain": [
              "<Figure size 720x720 with 5 Axes>"
            ],
            "image/png": "[encoded data removed]"
          },
          "metadata": {
            "needs_background": "light"
          }
        }
      ],
      "source": [
        "race_grouped_2 = voter_frame_2.groupby(\"race\")\n",
        "plt.rcParams[\"figure.autolayout\"] = True\n",
        "fig, ax = plt.subplots(nrows=len(race_grouped_2),figsize=(10,10),sharex=True)\n",
        "fig.suptitle(\"DATASET 2 | Age Histogram by Race (including mean line)\",fontsize=16)\n",
        "\n",
        "for i, (name, group) in enumerate(race_grouped_2):\n",
        "    ax[i].hist(group[\"age\"], bins=20, alpha=0.5)\n",
        "    ax[i].axvline(group[\"age\"].mean(), color='b', linestyle='dashed', linewidth=1)\n",
        "    ax[i].set_title(name)\n",
        "    ax[i].set_ylabel(\"Frequency\")\n",
        "    ax[i].set_xlabel(\"Age\")\n",
        "\n",
        "\n",
        "# Formatting tips used from\n",
        "# https://matplotlib.org/stable/gallery/subplots_axes_and_figures/subplots_demo.html"
      ]
    },
    {
      "cell_type": "code",
      "execution_count": null,
      "metadata": {
        "colab": {
          "base_uri": "https://localhost:8080/",
          "height": 373
        },
        "id": "VNN9k2ZlSiEW",
        "outputId": "578db6d1-1ed5-4799-9b19-052c102c7b5d"
      },
      "outputs": [
        {
          "output_type": "display_data",
          "data": {
            "text/plain": [
              "<Figure size 720x360 with 5 Axes>"
            ],
            "image/png": "[encoded data removed]"
          },
          "metadata": {
            "needs_background": "light"
          }
        }
      ],
      "source": [
        "fig, ax = plt.subplots(nrows=1,ncols=len(race_grouped_1),figsize=(10,5),sharey=True)\n",
        "fig.suptitle(\"DATASET 1 | Age Boxplot by Race\",fontsize=16)\n",
        "\n",
        "i=0\n",
        "for name, group in race_grouped_1:\n",
        "    group['age'].plot.box(ax=ax[i],grid=False)\n",
        "    ax[i].set_title(name)\n",
        "    i+=1"
      ]
    },
    {
      "cell_type": "code",
      "execution_count": null,
      "metadata": {
        "colab": {
          "base_uri": "https://localhost:8080/",
          "height": 373
        },
        "id": "5cV5uWeCSiEW",
        "outputId": "ae2b9ef9-b9e3-4cd2-eccd-82e3a50c2e41"
      },
      "outputs": [
        {
          "output_type": "display_data",
          "data": {
            "text/plain": [
              "<Figure size 720x360 with 5 Axes>"
            ],
            "image/png": "[encoded data removed]"
          },
          "metadata": {
            "needs_background": "light"
          }
        }
      ],
      "source": [
        "fig, ax = plt.subplots(nrows=1,ncols=len(race_grouped_2),figsize=(10,5),sharey=True)\n",
        "fig.suptitle(\"DATASET 2 | Age Boxplot by Race\",fontsize=16)\n",
        "\n",
        "i=0\n",
        "for name, group in race_grouped_2:\n",
        "    group['age'].plot.box(ax=ax[i],grid=False)\n",
        "    ax[i].set_title(name)\n",
        "    i+=1"
      ]
    },
    {
      "cell_type": "markdown",
      "metadata": {
        "id": "V7PgEAy5SiEW"
      },
      "source": [
        "# __<font color=green>MODELLING</font><br>__\n"
      ]
    },
    {
      "cell_type": "markdown",
      "metadata": {
        "id": "hwcXdBBJSiEX"
      },
      "source": [
        "### __<font color=yellow>Dataset 1 Modelling</font><br>__\n"
      ]
    },
    {
      "cell_type": "code",
      "execution_count": null,
      "metadata": {
        "colab": {
          "base_uri": "https://localhost:8080/"
        },
        "id": "B3JFFft9SiEX",
        "outputId": "6c67584a-bff2-4bb1-8389-0960dac90c86"
      },
      "outputs": [
        {
          "output_type": "stream",
          "name": "stdout",
          "text": [
            "Dataset 1 | F-Test\n"
          ]
        },
        {
          "output_type": "execute_result",
          "data": {
            "text/plain": [
              "F_onewayResult(statistic=1.7744689357329695, pvalue=0.13173183201930463)"
            ]
          },
          "metadata": {},
          "execution_count": 54
        }
      ],
      "source": [
        "\n",
        "stats.f_oneway(asian, black, hispanic, other, white)"
      ]
    },
    {
      "cell_type": "code",
      "execution_count": null,
      "metadata": {
        "colab": {
          "base_uri": "https://localhost:8080/",
          "height": 355
        },
        "id": "w9IozGHrSiEX",
        "outputId": "ee085e94-2e47-4e4e-935d-be17d6c1ce87"
      },
      "outputs": [
        {
          "output_type": "stream",
          "name": "stdout",
          "text": [
            "         race  age\n",
            "0       black   51\n",
            "1       white   49\n",
            "2    hispanic   51\n",
            "3       white   48\n",
            "4       asian   56\n",
            "..        ...  ...\n",
            "995     white   47\n",
            "996     asian   40\n",
            "997     white   50\n",
            "998     white   51\n",
            "999  hispanic   43\n",
            "\n",
            "[1000 rows x 2 columns]\n"
          ]
        },
        {
          "output_type": "execute_result",
          "data": {
            "text/plain": [
              "             sum_sq     df         F    PR(>F)\n",
              "race        199.369    4.0  1.774469  0.131732\n",
              "Residual  27948.102  995.0       NaN       NaN"
            ],
            "text/html": [
              "\n",
              "  <div id=\"df-98f37f9f-09f7-40b6-8ea5-cad9dba11dc6\">\n",
              "    <div class=\"colab-df-container\">\n",
              "      <div>\n",
              "<style scoped>\n",
              "    .dataframe tbody tr th:only-of-type {\n",
              "        vertical-align: middle;\n",
              "    }\n",
              "\n",
              "    .dataframe tbody tr th {\n",
              "        vertical-align: top;\n",
              "    }\n",
              "\n",
              "    .dataframe thead th {\n",
              "        text-align: right;\n",
              "    }\n",
              "</style>\n",
              "<table border=\"1\" class=\"dataframe\">\n",
              "  <thead>\n",
              "    <tr style=\"text-align: right;\">\n",
              "      <th></th>\n",
              "      <th>sum_sq</th>\n",
              "      <th>df</th>\n",
              "      <th>F</th>\n",
              "      <th>PR(&gt;F)</th>\n",
              "    </tr>\n",
              "  </thead>\n",
              "  <tbody>\n",
              "    <tr>\n",
              "      <th>race</th>\n",
              "      <td>199.369</td>\n",
              "      <td>4.0</td>\n",
              "      <td>1.774469</td>\n",
              "      <td>0.131732</td>\n",
              "    </tr>\n",
              "    <tr>\n",
              "      <th>Residual</th>\n",
              "      <td>27948.102</td>\n",
              "      <td>995.0</td>\n",
              "      <td>NaN</td>\n",
              "      <td>NaN</td>\n",
              "    </tr>\n",
              "  </tbody>\n",
              "</table>\n",
              "</div>\n",
              "      <button class=\"colab-df-convert\" onclick=\"convertToInteractive('df-98f37f9f-09f7-40b6-8ea5-cad9dba11dc6')\"\n",
              "              title=\"Convert this dataframe to an interactive table.\"\n",
              "              style=\"display:none;\">\n",
              "        \n",
              "  <svg xmlns=\"http://www.w3.org/2000/svg\" height=\"24px\"viewBox=\"0 0 24 24\"\n",
              "       width=\"24px\">\n",
              "    <path d=\"M0 0h24v24H0V0z\" fill=\"none\"/>\n",
              "    <path d=\"M18.56 5.44l.94 2.06.94-2.06 2.06-.94-2.06-.94-.94-2.06-.94 2.06-2.06.94zm-11 1L8.5 8.5l.94-2.06 2.06-.94-2.06-.94L8.5 2.5l-.94 2.06-2.06.94zm10 10l.94 2.06.94-2.06 2.06-.94-2.06-.94-.94-2.06-.94 2.06-2.06.94z\"/><path d=\"M17.41 7.96l-1.37-1.37c-.4-.4-.92-.59-1.43-.59-.52 0-1.04.2-1.43.59L10.3 9.45l-7.72 7.72c-.78.78-.78 2.05 0 2.83L4 21.41c.39.39.9.59 1.41.59.51 0 1.02-.2 1.41-.59l7.78-7.78 2.81-2.81c.8-.78.8-2.07 0-2.86zM5.41 20L4 18.59l7.72-7.72 1.47 1.35L5.41 20z\"/>\n",
              "  </svg>\n",
              "      </button>\n",
              "      \n",
              "  <style>\n",
              "    .colab-df-container {\n",
              "      display:flex;\n",
              "      flex-wrap:wrap;\n",
              "      gap: 12px;\n",
              "    }\n",
              "\n",
              "    .colab-df-convert {\n",
              "      background-color: #E8F0FE;\n",
              "      border: none;\n",
              "      border-radius: 50%;\n",
              "      cursor: pointer;\n",
              "      display: none;\n",
              "      fill: #1967D2;\n",
              "      height: 32px;\n",
              "      padding: 0 0 0 0;\n",
              "      width: 32px;\n",
              "    }\n",
              "\n",
              "    .colab-df-convert:hover {\n",
              "      background-color: #E2EBFA;\n",
              "      box-shadow: 0px 1px 2px rgba(60, 64, 67, 0.3), 0px 1px 3px 1px rgba(60, 64, 67, 0.15);\n",
              "      fill: #174EA6;\n",
              "    }\n",
              "\n",
              "    [theme=dark] .colab-df-convert {\n",
              "      background-color: #3B4455;\n",
              "      fill: #D2E3FC;\n",
              "    }\n",
              "\n",
              "    [theme=dark] .colab-df-convert:hover {\n",
              "      background-color: #434B5C;\n",
              "      box-shadow: 0px 1px 3px 1px rgba(0, 0, 0, 0.15);\n",
              "      filter: drop-shadow(0px 1px 2px rgba(0, 0, 0, 0.3));\n",
              "      fill: #FFFFFF;\n",
              "    }\n",
              "  </style>\n",
              "\n",
              "      <script>\n",
              "        const buttonEl =\n",
              "          document.querySelector('#df-98f37f9f-09f7-40b6-8ea5-cad9dba11dc6 button.colab-df-convert');\n",
              "        buttonEl.style.display =\n",
              "          google.colab.kernel.accessAllowed ? 'block' : 'none';\n",
              "\n",
              "        async function convertToInteractive(key) {\n",
              "          const element = document.querySelector('#df-98f37f9f-09f7-40b6-8ea5-cad9dba11dc6');\n",
              "          const dataTable =\n",
              "            await google.colab.kernel.invokeFunction('convertToInteractive',\n",
              "                                                     [key], {});\n",
              "          if (!dataTable) return;\n",
              "\n",
              "          const docLinkHtml = 'Like what you see? Visit the ' +\n",
              "            '<a target=\"_blank\" href=https://colab.research.google.com/notebooks/data_table.ipynb>data table notebook</a>'\n",
              "            + ' to learn more about interactive tables.';\n",
              "          element.innerHTML = '';\n",
              "          dataTable['output_type'] = 'display_data';\n",
              "          await google.colab.output.renderOutput(dataTable, element);\n",
              "          const docLink = document.createElement('div');\n",
              "          docLink.innerHTML = docLinkHtml;\n",
              "          element.appendChild(docLink);\n",
              "        }\n",
              "      </script>\n",
              "    </div>\n",
              "  </div>\n",
              "  "
            ]
          },
          "metadata": {},
          "execution_count": 55
        }
      ],
      "source": [
        "# One-way ANOVA\n",
        "# get ANOVA table as R like output\n",
        "import statsmodels.api as sm\n",
        "from statsmodels.formula.api import ols\n",
        "\n",
        "voter_frame_anova = voter_frame\n",
        "# Ordinary Least Squares (OLS) model\n",
        "voter_frame_anova.columns = [ 'race', 'age']\n",
        "model = ols('age ~ race', data=voter_frame).fit()\n",
        "anova_table = sm.stats.anova_lm(model, typ=2)\n",
        "anova_table\n"
      ]
    },
    {
      "cell_type": "markdown",
      "source": [
        "One-Way ANOVA and F-test Results:\n",
        "\n",
        "P of 0.1317 is not low enough to reject null hypothesis, so we can't say the mean age between groups is different"
      ],
      "metadata": {
        "id": "XQCl39w5dL7l"
      }
    },
    {
      "cell_type": "code",
      "source": [
        "#T Test\n",
        "from scipy import stats\n",
        "import statsmodels.stats.multicomp as mc\n",
        "\n",
        "comp1 = mc.MultiComparison(voter_frame['age'], voter_frame['race'])\n",
        "tbl, a1, a2 = comp1.allpairtest(stats.ttest_ind)\n",
        "#a1[0] prints the stat and pval values from tbl\n",
        "#a1[1] prints the reject status of the compairsons\n",
        "#a1[2] prints the p-value corrections based on bonferroni \n",
        "\n",
        "print(f'tbal is ...{tbl}')\n",
        "\n",
        "#https://stackoverflow.com/questions/60265435/t-test-in-python-for-multiple-group-comparisons"
      ],
      "metadata": {
        "colab": {
          "base_uri": "https://localhost:8080/"
        },
        "id": "CsRPyWQIWZXR",
        "outputId": "7dfbab82-6298-4cb2-a237-56a9bda3304e"
      },
      "execution_count": null,
      "outputs": [
        {
          "output_type": "stream",
          "name": "stdout",
          "text": [
            "tbal is ...Test Multiple Comparison ttest_ind \n",
            "FWER=0.05 method=bonf\n",
            "alphacSidak=0.01, alphacBonf=0.005\n",
            "=================================================\n",
            " group1   group2    stat   pval  pval_corr reject\n",
            "-------------------------------------------------\n",
            "   asian    black  1.4723 0.1426       1.0  False\n",
            "   asian hispanic  0.7953 0.4271       1.0  False\n",
            "   asian    other  0.0239 0.9809       1.0  False\n",
            "   asian    white  1.7848 0.0748    0.7484  False\n",
            "   black hispanic  -0.978 0.3287       1.0  False\n",
            "   black    other -1.5379 0.1257       1.0  False\n",
            "   black    white  0.1754 0.8608       1.0  False\n",
            "hispanic    other -0.8181 0.4139       1.0  False\n",
            "hispanic    white  1.5959 0.1109       1.0  False\n",
            "   other    white  1.8669 0.0624    0.6244  False\n",
            "-------------------------------------------------\n"
          ]
        }
      ]
    },
    {
      "cell_type": "markdown",
      "source": [
        "T-Test w/ Bonferroni Results:\n",
        "\n",
        "There were no rejections of the null hypothesis  accross all of the races, so we can't say the mean age between groups is different"
      ],
      "metadata": {
        "id": "nCVZcUJSdQgP"
      }
    },
    {
      "cell_type": "code",
      "source": [
        "# load packages\n",
        "from statsmodels.stats.multicomp import pairwise_tukeyhsd\n",
        "# perform multiple pairwise comparison (Tukey HSD)\n",
        "m_comp_res = pairwise_tukeyhsd(endog=voter_frame['age'], groups=voter_frame['race'], alpha=0.05)\n",
        "print(m_comp_res)"
      ],
      "metadata": {
        "colab": {
          "base_uri": "https://localhost:8080/"
        },
        "id": "s5EGg5NXbl5H",
        "outputId": "978513bc-0a93-4973-facd-07cb21d8d2b4"
      },
      "execution_count": null,
      "outputs": [
        {
          "output_type": "stream",
          "name": "stdout",
          "text": [
            "  Multiple Comparison of Means - Tukey HSD, FWER=0.05  \n",
            "=======================================================\n",
            " group1   group2  meandiff p-adj   lower  upper  reject\n",
            "-------------------------------------------------------\n",
            "   asian    black  -1.3353 0.5735 -3.8242 1.1535  False\n",
            "   asian hispanic  -0.7593    0.9 -3.1315 1.6129  False\n",
            "   asian    other  -0.0264    0.9 -3.0202 2.9674  False\n",
            "   asian    white  -1.4184 0.4336 -3.6932 0.8564  False\n",
            "   black hispanic    0.576 0.8145 -0.9362 2.0882  False\n",
            "   black    other    1.309 0.5494 -1.0622 3.6801  False\n",
            "   black    white  -0.0831    0.9 -1.4374 1.2713  False\n",
            "hispanic    other    0.733 0.8996 -1.5154 2.9813  False\n",
            "hispanic    white  -0.6591 0.4974 -1.7847 0.4665  False\n",
            "   other    white   -1.392 0.3912 -3.5374 0.7533  False\n",
            "-------------------------------------------------------\n"
          ]
        }
      ]
    },
    {
      "cell_type": "markdown",
      "source": [
        "Tukey Test Results:\n",
        "\n",
        "There were no rejections of the null hypothesis  accross all of the races, so we can't say the mean age between groups is different"
      ],
      "metadata": {
        "id": "hTpfFS6kdja0"
      }
    },
    {
      "cell_type": "markdown",
      "source": [
        "### __<font color=yellow>Dataset 2 Modelling</font><br>__\n"
      ],
      "metadata": {
        "id": "Del9TPPqd0Np"
      }
    },
    {
      "cell_type": "code",
      "execution_count": null,
      "metadata": {
        "colab": {
          "base_uri": "https://localhost:8080/"
        },
        "id": "sIaM_bkZSiEX",
        "outputId": "b21a208a-174d-491b-b17b-4dfdd7da779c"
      },
      "outputs": [
        {
          "output_type": "stream",
          "name": "stdout",
          "text": [
            "Dataset 2 | F-Test\n"
          ]
        },
        {
          "output_type": "execute_result",
          "data": {
            "text/plain": [
              "F_onewayResult(statistic=10.164699828386366, pvalue=4.5613242113994585e-08)"
            ]
          },
          "metadata": {},
          "execution_count": 58
        }
      ],
      "source": [
        "stats.f_oneway(asian2, black2, hispanic2, other2, white2)"
      ]
    },
    {
      "cell_type": "code",
      "execution_count": null,
      "metadata": {
        "colab": {
          "base_uri": "https://localhost:8080/",
          "height": 112
        },
        "id": "t4IcrAqxSiEY",
        "outputId": "6a1d0d4a-2cb7-4525-a8f6-3976f7cf90af"
      },
      "outputs": [
        {
          "output_type": "execute_result",
          "data": {
            "text/plain": [
              "                sum_sq     df        F        PR(>F)\n",
              "race       1284.123213    4.0  10.1647  4.561324e-08\n",
              "Residual  31424.995787  995.0      NaN           NaN"
            ],
            "text/html": [
              "\n",
              "  <div id=\"df-b402dcf0-b345-4c43-af31-50c4f0db2ef1\">\n",
              "    <div class=\"colab-df-container\">\n",
              "      <div>\n",
              "<style scoped>\n",
              "    .dataframe tbody tr th:only-of-type {\n",
              "        vertical-align: middle;\n",
              "    }\n",
              "\n",
              "    .dataframe tbody tr th {\n",
              "        vertical-align: top;\n",
              "    }\n",
              "\n",
              "    .dataframe thead th {\n",
              "        text-align: right;\n",
              "    }\n",
              "</style>\n",
              "<table border=\"1\" class=\"dataframe\">\n",
              "  <thead>\n",
              "    <tr style=\"text-align: right;\">\n",
              "      <th></th>\n",
              "      <th>sum_sq</th>\n",
              "      <th>df</th>\n",
              "      <th>F</th>\n",
              "      <th>PR(&gt;F)</th>\n",
              "    </tr>\n",
              "  </thead>\n",
              "  <tbody>\n",
              "    <tr>\n",
              "      <th>race</th>\n",
              "      <td>1284.123213</td>\n",
              "      <td>4.0</td>\n",
              "      <td>10.1647</td>\n",
              "      <td>4.561324e-08</td>\n",
              "    </tr>\n",
              "    <tr>\n",
              "      <th>Residual</th>\n",
              "      <td>31424.995787</td>\n",
              "      <td>995.0</td>\n",
              "      <td>NaN</td>\n",
              "      <td>NaN</td>\n",
              "    </tr>\n",
              "  </tbody>\n",
              "</table>\n",
              "</div>\n",
              "      <button class=\"colab-df-convert\" onclick=\"convertToInteractive('df-b402dcf0-b345-4c43-af31-50c4f0db2ef1')\"\n",
              "              title=\"Convert this dataframe to an interactive table.\"\n",
              "              style=\"display:none;\">\n",
              "        \n",
              "  <svg xmlns=\"http://www.w3.org/2000/svg\" height=\"24px\"viewBox=\"0 0 24 24\"\n",
              "       width=\"24px\">\n",
              "    <path d=\"M0 0h24v24H0V0z\" fill=\"none\"/>\n",
              "    <path d=\"M18.56 5.44l.94 2.06.94-2.06 2.06-.94-2.06-.94-.94-2.06-.94 2.06-2.06.94zm-11 1L8.5 8.5l.94-2.06 2.06-.94-2.06-.94L8.5 2.5l-.94 2.06-2.06.94zm10 10l.94 2.06.94-2.06 2.06-.94-2.06-.94-.94-2.06-.94 2.06-2.06.94z\"/><path d=\"M17.41 7.96l-1.37-1.37c-.4-.4-.92-.59-1.43-.59-.52 0-1.04.2-1.43.59L10.3 9.45l-7.72 7.72c-.78.78-.78 2.05 0 2.83L4 21.41c.39.39.9.59 1.41.59.51 0 1.02-.2 1.41-.59l7.78-7.78 2.81-2.81c.8-.78.8-2.07 0-2.86zM5.41 20L4 18.59l7.72-7.72 1.47 1.35L5.41 20z\"/>\n",
              "  </svg>\n",
              "      </button>\n",
              "      \n",
              "  <style>\n",
              "    .colab-df-container {\n",
              "      display:flex;\n",
              "      flex-wrap:wrap;\n",
              "      gap: 12px;\n",
              "    }\n",
              "\n",
              "    .colab-df-convert {\n",
              "      background-color: #E8F0FE;\n",
              "      border: none;\n",
              "      border-radius: 50%;\n",
              "      cursor: pointer;\n",
              "      display: none;\n",
              "      fill: #1967D2;\n",
              "      height: 32px;\n",
              "      padding: 0 0 0 0;\n",
              "      width: 32px;\n",
              "    }\n",
              "\n",
              "    .colab-df-convert:hover {\n",
              "      background-color: #E2EBFA;\n",
              "      box-shadow: 0px 1px 2px rgba(60, 64, 67, 0.3), 0px 1px 3px 1px rgba(60, 64, 67, 0.15);\n",
              "      fill: #174EA6;\n",
              "    }\n",
              "\n",
              "    [theme=dark] .colab-df-convert {\n",
              "      background-color: #3B4455;\n",
              "      fill: #D2E3FC;\n",
              "    }\n",
              "\n",
              "    [theme=dark] .colab-df-convert:hover {\n",
              "      background-color: #434B5C;\n",
              "      box-shadow: 0px 1px 3px 1px rgba(0, 0, 0, 0.15);\n",
              "      filter: drop-shadow(0px 1px 2px rgba(0, 0, 0, 0.3));\n",
              "      fill: #FFFFFF;\n",
              "    }\n",
              "  </style>\n",
              "\n",
              "      <script>\n",
              "        const buttonEl =\n",
              "          document.querySelector('#df-b402dcf0-b345-4c43-af31-50c4f0db2ef1 button.colab-df-convert');\n",
              "        buttonEl.style.display =\n",
              "          google.colab.kernel.accessAllowed ? 'block' : 'none';\n",
              "\n",
              "        async function convertToInteractive(key) {\n",
              "          const element = document.querySelector('#df-b402dcf0-b345-4c43-af31-50c4f0db2ef1');\n",
              "          const dataTable =\n",
              "            await google.colab.kernel.invokeFunction('convertToInteractive',\n",
              "                                                     [key], {});\n",
              "          if (!dataTable) return;\n",
              "\n",
              "          const docLinkHtml = 'Like what you see? Visit the ' +\n",
              "            '<a target=\"_blank\" href=https://colab.research.google.com/notebooks/data_table.ipynb>data table notebook</a>'\n",
              "            + ' to learn more about interactive tables.';\n",
              "          element.innerHTML = '';\n",
              "          dataTable['output_type'] = 'display_data';\n",
              "          await google.colab.output.renderOutput(dataTable, element);\n",
              "          const docLink = document.createElement('div');\n",
              "          docLink.innerHTML = docLinkHtml;\n",
              "          element.appendChild(docLink);\n",
              "        }\n",
              "      </script>\n",
              "    </div>\n",
              "  </div>\n",
              "  "
            ]
          },
          "metadata": {},
          "execution_count": 59
        }
      ],
      "source": [
        "# One-way ANOVA\n",
        "# get ANOVA table as R like output\n",
        "import statsmodels.api as sm\n",
        "from statsmodels.formula.api import ols\n",
        "\n",
        "voter_frame_anova = voter_frame_2\n",
        "\n",
        "# Ordinary Least Squares (OLS) model\n",
        "voter_frame_anova.columns = [ 'race', 'age']\n",
        "model = ols('age ~ race', data=voter_frame_2).fit()\n",
        "anova_table = sm.stats.anova_lm(model, typ=2)\n",
        "anova_table\n"
      ]
    },
    {
      "cell_type": "markdown",
      "source": [
        "One-Way ANOVA and F-test Results:\n",
        "\n",
        "P of 4.56e-08 is significantly low so we can reject null hypothesis, meaning that the variances are different accross groups"
      ],
      "metadata": {
        "id": "bs6BUY03ekBt"
      }
    },
    {
      "cell_type": "code",
      "source": [
        "#T Test\n",
        "from scipy import stats\n",
        "import statsmodels.stats.multicomp as mc\n",
        "\n",
        "comp1 = mc.MultiComparison(voter_frame_2['age'], voter_frame_2['race'])\n",
        "tbl, a1, a2 = comp1.allpairtest(stats.ttest_ind)\n",
        "#a1[0] prints the stat and pval values from tbl\n",
        "#a1[1] prints the reject status of the compairsons\n",
        "#a1[2] prints the p-value corrections based on bonferroni \n",
        "\n",
        "print(f'tbal is ...{tbl}')\n",
        "\n",
        "#https://stackoverflow.com/questions/60265435/t-test-in-python-for-multiple-group-comparisons"
      ],
      "metadata": {
        "colab": {
          "base_uri": "https://localhost:8080/"
        },
        "id": "DM4486x8du95",
        "outputId": "a44c6f08-4c68-450c-c1bb-0cd31e2c793d"
      },
      "execution_count": null,
      "outputs": [
        {
          "output_type": "stream",
          "name": "stdout",
          "text": [
            "tbal is ...Test Multiple Comparison ttest_ind \n",
            "FWER=0.05 method=bonf\n",
            "alphacSidak=0.01, alphacBonf=0.005\n",
            "=================================================\n",
            " group1   group2    stat   pval  pval_corr reject\n",
            "-------------------------------------------------\n",
            "   asian    black  0.8386 0.4027       1.0  False\n",
            "   asian hispanic -0.4259 0.6705       1.0  False\n",
            "   asian    other  0.9795 0.3299       1.0  False\n",
            "   asian    white -2.3181 0.0208     0.208  False\n",
            "   black hispanic -1.9528 0.0516    0.5156  False\n",
            "   black    other  0.2803 0.7796       1.0  False\n",
            "   black    white -5.3793    0.0       0.0   True\n",
            "hispanic    other  1.5854  0.114       1.0  False\n",
            "hispanic    white  -3.516 0.0005    0.0046   True\n",
            "   other    white -3.7638 0.0002    0.0018   True\n",
            "-------------------------------------------------\n"
          ]
        }
      ]
    },
    {
      "cell_type": "markdown",
      "source": [
        "T-Test w/ Bonferroni Results:\n",
        "\n",
        "The null hypothesis was rejected accross the follow group pairings: (black, white), (hispanic, white), (other, white).\n",
        "\n",
        "We can conclude the the mean age for these group pairings is not equal.\n"
      ],
      "metadata": {
        "id": "Kw2BpzExen4K"
      }
    },
    {
      "cell_type": "code",
      "source": [
        "# load packages\n",
        "from statsmodels.stats.multicomp import pairwise_tukeyhsd\n",
        "# perform multiple pairwise comparison (Tukey HSD)\n",
        "m_comp_res = pairwise_tukeyhsd(endog=voter_frame_2['age'], groups=voter_frame_2['race'], alpha=0.05)\n",
        "print(m_comp_res)"
      ],
      "metadata": {
        "colab": {
          "base_uri": "https://localhost:8080/"
        },
        "id": "9d72-KJWdxxC",
        "outputId": "8eb810e4-8f40-4919-d4df-2cad3ff685de"
      },
      "execution_count": null,
      "outputs": [
        {
          "output_type": "stream",
          "name": "stdout",
          "text": [
            "  Multiple Comparison of Means - Tukey HSD, FWER=0.05  \n",
            "=======================================================\n",
            " group1   group2  meandiff p-adj   lower  upper  reject\n",
            "-------------------------------------------------------\n",
            "   asian    black  -0.8032    0.9 -3.4423  1.836  False\n",
            "   asian hispanic   0.4143    0.9 -2.1011 2.9297  False\n",
            "   asian    other  -1.0645 0.8852 -4.2391   2.11  False\n",
            "   asian    white   1.9547  0.175 -0.4575 4.3668  False\n",
            "   black hispanic   1.2175 0.2318  -0.386  2.821  False\n",
            "   black    other  -0.2614    0.9 -2.7757  2.253  False\n",
            "   black    white   2.7579  0.001  1.3217  4.194   True\n",
            "hispanic    other  -1.4789 0.4391  -3.863 0.9053  False\n",
            "hispanic    white   1.5404  0.004  0.3468  2.734   True\n",
            "   other    white   3.0192 0.0028  0.7443 5.2941   True\n",
            "-------------------------------------------------------\n"
          ]
        }
      ]
    },
    {
      "cell_type": "markdown",
      "source": [
        "Tukey Test Results:\n",
        "\n",
        "The null hypothesis was rejected accross the follow group pairings: (black, white), (hispanic, white), (other, white).\n",
        "\n",
        "We can conclude the the mean age for these group pairings is not equal.\n"
      ],
      "metadata": {
        "id": "2XXG-WMtebaT"
      }
    },
    {
      "cell_type": "markdown",
      "source": [
        "# __<font color=green>CONCLUSION</font><br>__\n"
      ],
      "metadata": {
        "id": "W4Je8yexebS1"
      }
    },
    {
      "cell_type": "markdown",
      "source": [
        "Based on the results demonstrated in the Model section above, we can draw the following conclusions.<br> \n",
        "For Dataset 1 we can conclude that there was no statistically significant differences in average age accross any of the race groups.\n",
        "<br>\n",
        "For Dataset 2, we can conclude that there were statistically significant differences in average age accross some age groups, specifically between the white group and the black, hispanic, and other groups.\n",
        "<br>\n",
        "\n",
        "We did set out to solve our initial goal of determining any age differences between the two voter sets. Concluding that there was no significant age difference in Dataset 1, while there was a difference in Dataset 2.\n",
        "<br>\n",
        "\n",
        "Additional data would bolster this analysis, given that only a sample size of 1000 was utilized for each voting group (dataset)."
      ],
      "metadata": {
        "id": "YXOeFlU2fJCo"
      }
    }
  ],
  "metadata": {
    "kernelspec": {
      "display_name": "Python 3",
      "language": "python",
      "name": "python3"
    },
    "language_info": {
      "codemirror_mode": {
        "name": "ipython",
        "version": 3
      },
      "file_extension": ".py",
      "mimetype": "text/x-python",
      "name": "python",
      "nbconvert_exporter": "python",
      "pygments_lexer": "ipython3",
      "version": "3.10.7"
    },
    "orig_nbformat": 4,
    "vscode": {
      "interpreter": {
        "hash": "73416d1cf2d2fd0a9886d66325fb9eb11f36ad5b828bac8524e27004a143a341"
      }
    },
    "colab": {
      "provenance": [],
      "include_colab_link": true
    }
  },
  "nbformat": 4,
  "nbformat_minor": 0
}